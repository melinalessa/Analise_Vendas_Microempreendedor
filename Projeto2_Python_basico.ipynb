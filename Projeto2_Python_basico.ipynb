{
  "nbformat": 4,
  "nbformat_minor": 0,
  "metadata": {
    "colab": {
      "provenance": [],
      "mount_file_id": "1sFM617-0wKAkUgZNTpMqNSdK1eGFzNjJ",
      "authorship_tag": "ABX9TyMohEXMQ8G0FVMx3jloP/JC",
      "include_colab_link": true
    },
    "kernelspec": {
      "name": "python3",
      "display_name": "Python 3"
    },
    "language_info": {
      "name": "python"
    }
  },
  "cells": [
    {
      "cell_type": "markdown",
      "metadata": {
        "id": "view-in-github",
        "colab_type": "text"
      },
      "source": [
        "<a href=\"https://colab.research.google.com/github/melinalessa/Projeto2_Python_basico/blob/main/Projeto2_Python_basico.ipynb\" target=\"_parent\"><img src=\"https://colab.research.google.com/assets/colab-badge.svg\" alt=\"Open In Colab\"/></a>"
      ]
    },
    {
      "cell_type": "code",
      "execution_count": 1,
      "metadata": {
        "colab": {
          "base_uri": "https://localhost:8080/"
        },
        "id": "M4gF4YBbCB27",
        "outputId": "a75ac8c4-8d4c-48b3-d11b-a2baf143bfdb"
      },
      "outputs": [
        {
          "output_type": "stream",
          "name": "stdout",
          "text": [
            "['Vendas - São Paulo.csv', 'Vendas - Rio de Janeiro.csv', 'Devolucoes - Rio de Janeiro.csv', 'Devolucoes - Salvador.csv', 'Vendas - Salvador.csv', 'Devolucoes - Fortaleza.csv', 'Vendas - Recife.csv', 'Vendas - Curitiba.csv', 'Devolucoes - São Paulo.csv', 'Vendas - Belo Horizonte.csv', 'Vendas - Fortaleza.csv', 'Devolucoes - Goiás.csv', 'Devolucoes - Belo Horizonte.csv', 'Devolucoes - Curitiba.csv', 'Vendas - Porto Alegre.csv', 'Vendas - Goiás.csv', 'Devolucoes - Porto Alegre.csv', 'Devolucoes - Recife.csv']\n"
          ]
        }
      ],
      "source": [
        "#importar dados\n",
        "\n",
        "import os\n",
        "\n",
        "bd = os.listdir(\"/content/drive/MyDrive/DEV/PY/BD Vendas\")\n",
        "print(bd)\n",
        "\n"
      ]
    },
    {
      "cell_type": "code",
      "source": [
        "#importar base de dados\n",
        "\n",
        "for arquivo in bd:\n",
        "  print(arquivo)\n"
      ],
      "metadata": {
        "colab": {
          "base_uri": "https://localhost:8080/"
        },
        "id": "K-KgIUhCq_O8",
        "outputId": "de90e0c4-bcc0-4d2f-cd09-2801e6a6fd91"
      },
      "execution_count": 2,
      "outputs": [
        {
          "output_type": "stream",
          "name": "stdout",
          "text": [
            "Vendas - São Paulo.csv\n",
            "Vendas - Rio de Janeiro.csv\n",
            "Devolucoes - Rio de Janeiro.csv\n",
            "Devolucoes - Salvador.csv\n",
            "Vendas - Salvador.csv\n",
            "Devolucoes - Fortaleza.csv\n",
            "Vendas - Recife.csv\n",
            "Vendas - Curitiba.csv\n",
            "Devolucoes - São Paulo.csv\n",
            "Vendas - Belo Horizonte.csv\n",
            "Vendas - Fortaleza.csv\n",
            "Devolucoes - Goiás.csv\n",
            "Devolucoes - Belo Horizonte.csv\n",
            "Devolucoes - Curitiba.csv\n",
            "Vendas - Porto Alegre.csv\n",
            "Vendas - Goiás.csv\n",
            "Devolucoes - Porto Alegre.csv\n",
            "Devolucoes - Recife.csv\n"
          ]
        }
      ]
    }
  ]
}